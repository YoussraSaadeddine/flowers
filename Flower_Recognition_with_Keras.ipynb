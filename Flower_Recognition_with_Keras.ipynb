{
  "nbformat": 4,
  "nbformat_minor": 0,
  "metadata": {
    "colab": {
      "name": "Flower Recognition with Keras.ipynb",
      "provenance": [],
      "authorship_tag": "ABX9TyN/N0/75LLa0oZ4XuJeSbmq",
      "include_colab_link": true
    },
    "kernelspec": {
      "name": "python3",
      "display_name": "Python 3"
    }
  },
  "cells": [
    {
      "cell_type": "markdown",
      "metadata": {
        "id": "view-in-github",
        "colab_type": "text"
      },
      "source": [
        "<a href=\"https://colab.research.google.com/github/YoussraSaadeddine/github-example/blob/master/Flower_Recognition_with_Keras.ipynb\" target=\"_parent\"><img src=\"https://colab.research.google.com/assets/colab-badge.svg\" alt=\"Open In Colab\"/></a>"
      ]
    },
    {
      "cell_type": "markdown",
      "metadata": {
        "id": "UNq20xQ5F_tX",
        "colab_type": "text"
      },
      "source": [
        ""
      ]
    },
    {
      "cell_type": "markdown",
      "metadata": {
        "id": "yEXdA3SDGENX",
        "colab_type": "text"
      },
      "source": [
        "# **L'identification automatisée des plantes par le Deep Learning**"
      ]
    },
    {
      "cell_type": "markdown",
      "metadata": {
        "id": "-pAWjoaUIe-0",
        "colab_type": "text"
      },
      "source": [
        "## **introduction** "
      ]
    },
    {
      "cell_type": "markdown",
      "metadata": {
        "id": "dftiCOXoIyh0",
        "colab_type": "text"
      },
      "source": [
        "![Texte alternatif…](https://www.google.com/imgres?imgurl=https%3A%2F%2Fimages.unsplash.com%2Fphoto-1533907650686-70576141c030%3Fixlib%3Drb-1.2.1%26ixid%3DeyJhcHBfaWQiOjEyMDd9%26w%3D1000%26q%3D80&imgrefurl=https%3A%2F%2Funsplash.com%2Fs%2Fphotos%2Fflowers&tbnid=cY9ATS8evUWimM&vet=12ahUKEwjdxOTFkozrAhXP04UKHW0DBHcQMygGegUIARDqAQ..i&docid=-jzg_ktY6Nq4QM&w=1000&h=667&q=flower&client=opera&ved=2ahUKEwjdxOTFkozrAhXP04UKHW0DBHcQMygGegUIARDqAQ)"
      ]
    },
    {
      "cell_type": "code",
      "metadata": {
        "id": "xMl_oHJxJYE-",
        "colab_type": "code",
        "colab": {}
      },
      "source": [
        ""
      ],
      "execution_count": null,
      "outputs": []
    }
  ]
}